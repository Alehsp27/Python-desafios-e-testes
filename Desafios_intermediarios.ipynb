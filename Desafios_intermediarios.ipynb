{
 "cells": [
  {
   "cell_type": "markdown",
   "metadata": {},
   "source": [
    "# Desafios de programação python - DIO"
   ]
  },
  {
   "cell_type": "markdown",
   "metadata": {},
   "source": [
    "### Desafio intermediario 1"
   ]
  },
  {
   "cell_type": "code",
   "execution_count": null,
   "metadata": {},
   "outputs": [
    {
     "name": "stdout",
     "output_type": "stream",
     "text": [
      "23\n"
     ]
    }
   ],
   "source": [
    "letra = input()\n",
    "\n",
    "alfabeto=\"ABCDEFGHIJKLMNOPQRSTUVWXYZ\"\n",
    "for a in range(len(alfabeto)):\n",
    "  if letra.upper() == alfabeto[a]:\n",
    "    print(a+1)"
   ]
  },
  {
   "cell_type": "markdown",
   "metadata": {},
   "source": [
    "### Desafio intermediário 2"
   ]
  },
  {
   "cell_type": "code",
   "execution_count": null,
   "metadata": {},
   "outputs": [
    {
     "name": "stdout",
     "output_type": "stream",
     "text": [
      "ingles\n"
     ]
    }
   ],
   "source": [
    "condicao = {\"esquerda\":\"ingles\", \"direita\": \"frances\", \"nenhuma\": \"portugues\", \"ambas\": \"caiu\"}\n",
    "while True: \n",
    "    lado_perna = input()\n",
    "    try:\n",
    "        if lado_perna == \"\":\n",
    "            break\n",
    "        print(condicao[lado_perna])\n",
    "\n",
    "           # TODO:  Programe aqui dentro as condições necessárias para satisfazer o problema\n",
    "           # e imprima a saída de acordo com a situação das pernas do papagaio\n",
    "    except EOFError: \n",
    "        break"
   ]
  },
  {
   "cell_type": "markdown",
   "metadata": {},
   "source": [
    "### Desafio intermediário 3"
   ]
  },
  {
   "cell_type": "code",
   "execution_count": 95,
   "metadata": {},
   "outputs": [
    {
     "name": "stdout",
     "output_type": "stream",
     "text": [
      "Novo salario: 2200,00 Reajuste ganho: 200,00 Em percentual: 10 %\n"
     ]
    }
   ],
   "source": [
    "salario = float(input()) \n",
    "\n",
    "if (salario <= 600):\n",
    "\tnovo_salario = salario*1.17\n",
    "\tbonus = novo_salario - salario\n",
    "\tnovo_salario = str(novo_salario).split(\".\")\n",
    "\tnovo_salario[1] = novo_salario[1].rjust(2,\"0\")\n",
    "\tbonus = str(bonus).split(\".\")\n",
    "\tbonus[1] = bonus[1].rjust(2,\"0\")\n",
    "\tprint(f\"Novo salario: {novo_salario[0]},{novo_salario[1]}\",end=\" \")\n",
    "\tprint(f\"Reajuste ganho: {bonus[0]},{bonus[1]}\",end=\" \") \n",
    "\tprint(\"Em percentual: 17 %\")\n",
    "elif (salario <= 900):\n",
    "\tnovo_salario = salario*1.13\n",
    "\tbonus = novo_salario - salario\n",
    "\tnovo_salario = str(novo_salario).split(\".\")\n",
    "\tnovo_salario[1] = novo_salario[1].rjust(2,\"0\")\n",
    "\tbonus = str(bonus).split(\".\")\n",
    "\tbonus[1] = bonus[1].rjust(2,\"0\")\n",
    "\tprint(f\"Novo salario: {novo_salario[0]},{novo_salario[1]}\",end=\" \")\n",
    "\tprint(f\"Reajuste ganho: {bonus[0]},{bonus[1]}\",end=\" \") \n",
    "\tprint(\"Em percentual: 13 %\")\n",
    "elif (salario <= 1500):\n",
    "\tnovo_salario = salario*1.12\n",
    "\tbonus = novo_salario - salario\n",
    "\tnovo_salario = str(novo_salario).split(\".\")\n",
    "\tnovo_salario[1] = novo_salario[1].rjust(2,\"0\")\n",
    "\tbonus = str(bonus).split(\".\")\n",
    "\tbonus[1] = bonus[1].rjust(2,\"0\")\n",
    "\tprint(f\"Novo salario: {novo_salario[0]},{novo_salario[1]}\",end=\" \")\n",
    "\tprint(f\"Reajuste ganho: {bonus[0]},{bonus[1]}\",end=\" \") \n",
    "\tprint(\"Em percentual: 12 %\")\n",
    "elif (salario <= 2000):\n",
    "\tnovo_salario = salario*1.10\n",
    "\tbonus = novo_salario - salario\n",
    "\tnovo_salario = str(novo_salario).split(\".\")\n",
    "\tnovo_salario[1] = novo_salario[1].rjust(2,\"0\")\n",
    "\tbonus = str(bonus).split(\".\")\n",
    "\tbonus[1] = bonus[1].rjust(2,\"0\")\n",
    "\tprint(f\"Novo salario: {novo_salario[0]},{novo_salario[1]}\",end=\" \")\n",
    "\tprint(f\"Reajuste ganho: {bonus[0]},{bonus[1]}\",end=\" \") \n",
    "\tprint(\"Em percentual: 10 %\")\n",
    "else: \n",
    "\tnovo_salario = salario*1.05\n",
    "\tbonus = novo_salario - salario\n",
    "\tnovo_salario = str(novo_salario).split(\".\")\n",
    "\tnovo_salario[1] = novo_salario[1].rjust(2,\"0\")\n",
    "\tbonus = str(bonus).split(\".\")\n",
    "\tbonus[1] = bonus[1].rjust(2,\"0\")\n",
    "\tprint(f\"Novo salario: {novo_salario[0]},{novo_salario[1]}\",end=\" \")\n",
    "\tprint(f\"Reajuste ganho: {bonus[0]},{bonus[1]}\",end=\" \") \n",
    "\tprint(\"Em percentual: 5 %\")"
   ]
  }
 ],
 "metadata": {
  "kernelspec": {
   "display_name": "base",
   "language": "python",
   "name": "python3"
  },
  "language_info": {
   "codemirror_mode": {
    "name": "ipython",
    "version": 3
   },
   "file_extension": ".py",
   "mimetype": "text/x-python",
   "name": "python",
   "nbconvert_exporter": "python",
   "pygments_lexer": "ipython3",
   "version": "3.11.5"
  }
 },
 "nbformat": 4,
 "nbformat_minor": 2
}
